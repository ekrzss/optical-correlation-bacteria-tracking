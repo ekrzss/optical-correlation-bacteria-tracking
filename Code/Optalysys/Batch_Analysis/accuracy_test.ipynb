{
 "cells": [
  {
   "cell_type": "code",
   "execution_count": 46,
   "id": "851ffb0a-3879-495a-89f1-5505d63f45c1",
   "metadata": {},
   "outputs": [],
   "source": [
    "\n",
    "import numpy as np\n",
    "import cupy as cp\n",
    "import matplotlib as mpl\n",
    "mpl.rc('figure',  figsize=(5, 5))\n",
    "import matplotlib.pyplot as plt\n",
    "%matplotlib qt\n",
    "import scipy.io\n",
    "\n",
    "import pandas as pd\n",
    "import functions as f\n",
    "import easygui as gui\n",
    "from skimage.feature import peak_local_max\n",
    "from scipy.ndimage import gaussian_filter\n",
    "import time\n",
    "from tqdm import tqdm\n",
    "from numba import vectorize, jit\n",
    "import ipywidgets as widgets\n",
    "from IPython.display import display\n"
   ]
  },
  {
   "cell_type": "code",
   "execution_count": 10,
   "id": "ac812d1b-cdf6-4cc7-85e5-7865cb0b1191",
   "metadata": {},
   "outputs": [],
   "source": [
    "path_video = gui.fileopenbox()\n",
    "path_lut = gui.fileopenbox()"
   ]
  },
  {
   "cell_type": "code",
   "execution_count": 30,
   "id": "4d009dba-f007-4614-8690-359dec62a253",
   "metadata": {},
   "outputs": [],
   "source": [
    "vid = f.videoImport(path_video, 0)\n",
    "lut = f.videoImport(path_lut, 0)\n",
    "ni, nj, _ = vid.shape\n",
    "mi, mj, mk = lut.shape"
   ]
  },
  {
   "cell_type": "code",
   "execution_count": 20,
   "id": "53614dc4-fa34-447b-93b1-137306b00214",
   "metadata": {},
   "outputs": [
    {
     "name": "stdout",
     "output_type": "stream",
     "text": [
      "(400, 400, 550)\n",
      "(80, 80, 25)\n"
     ]
    },
    {
     "data": {
      "text/plain": [
       "25"
      ]
     },
     "execution_count": 20,
     "metadata": {},
     "output_type": "execute_result"
    }
   ],
   "source": [
    "print(vid.shape)\n",
    "print(lut.shape)\n",
    "mk"
   ]
  },
  {
   "cell_type": "code",
   "execution_count": 14,
   "id": "beb809cd-a00c-4613-88e7-aabdf3cdfb09",
   "metadata": {},
   "outputs": [
    {
     "name": "stdout",
     "output_type": "stream",
     "text": [
      "22 22\n"
     ]
    }
   ],
   "source": [
    "zs = [123.875, 118.875, 113.875, 108.875, 103.875, 98.875, 93.875, 88.875, 83.875, 78.875, 73.875, 68.875, 63.90625, 58.90625, 53.90625,\n",
    "      48.90625, 43.90625, 38.875, 33.875, 28.890625, 23.890625, 18.890625]\n",
    "\n",
    "nframes = [[17, 18, 20], [111, 115, 118, 121], [139, 140, 141, 142], [170, 171, 172, 173, 174], [194, 195], [217, 218, 219, 220, 221], [226, 227],\n",
    "         [253, 255], [256, 257, 258, 269, 270], [283, 299], [304], [320, 321], [326, 338], [360, 361, 362], [424, 425, 426, 427, 428],\n",
    "         [432, 433, 434, 435], [446, 457], [362], [477, 478, 479], [489, 490, 491], [510, 511, 512, 513, 514, 515, 516], [526, 527, 528, 529, 530, 531, 532, 533, 534]] \n",
    "\n",
    "print(len(zs), len(nframes))"
   ]
  },
  {
   "cell_type": "code",
   "execution_count": 49,
   "id": "8cf6cb10-6163-4811-9781-340dfc6cfc67",
   "metadata": {},
   "outputs": [
    {
     "data": {
      "text/plain": [
       "[17,\n",
       " 111,\n",
       " 139,\n",
       " 170,\n",
       " 194,\n",
       " 217,\n",
       " 226,\n",
       " 253,\n",
       " 256,\n",
       " 283,\n",
       " 304,\n",
       " 320,\n",
       " 326,\n",
       " 360,\n",
       " 424,\n",
       " 432,\n",
       " 446,\n",
       " 362,\n",
       " 477,\n",
       " 489,\n",
       " 510,\n",
       " 526]"
      ]
     },
     "execution_count": 49,
     "metadata": {},
     "output_type": "execute_result"
    }
   ],
   "source": [
    "frames_selection = [i[0] for i in nframes]\n",
    "nk = len(frames_selection)\n",
    "frames_selection"
   ]
  },
  {
   "cell_type": "code",
   "execution_count": 53,
   "id": "df8194e4-f773-43e3-95bd-504b3e138685",
   "metadata": {},
   "outputs": [],
   "source": [
    "frames = np.empty((ni, nj, len(frames_selection)))\n",
    "for k in range(len(frames_selection)):\n",
    "    frames[:, :, k] = vid[: ,:, frames_selection[k]]"
   ]
  },
  {
   "cell_type": "code",
   "execution_count": 54,
   "id": "6d9900fa-1488-47a4-9f11-2e1fb97fc8b3",
   "metadata": {},
   "outputs": [],
   "source": [
    "frames_zn = np.empty_like(frames)\n",
    "for k in range(nk):\n",
    "    A = frames[:,:,k]\n",
    "    frames_zn[:, :, k] = (A-np.mean(A))/np.std(A)\n",
    "\n",
    "lut_zn = np.empty_like(lut)\n",
    "for k in range(mk):\n",
    "    A = lut[:,:,k]\n",
    "    lut_zn[:, :, k] = (A-np.mean(A))/np.std(A)"
   ]
  },
  {
   "cell_type": "code",
   "execution_count": 55,
   "id": "18439b32-1202-4b2d-aac9-dca4bdbb7e09",
   "metadata": {},
   "outputs": [
    {
     "name": "stderr",
     "output_type": "stream",
     "text": [
      "100%|██████████████████████████████████████████████████████████████████████████████████| 22/22 [00:02<00:00,  8.96it/s]"
     ]
    },
    {
     "name": "stdout",
     "output_type": "stream",
     "text": [
      "0.04093726873397827\n"
     ]
    },
    {
     "name": "stderr",
     "output_type": "stream",
     "text": [
      "\n"
     ]
    }
   ],
   "source": [
    "def corr_gpu(a, b):\n",
    "    return a*cp.conj\n",
    "\n",
    "cFT = lambda x: cp.fft.fftshift(cp.fft.fft2(x))\n",
    "cIFT = lambda X: cp.fft.ifftshift(cp.fft.ifft2(X))\n",
    "\n",
    "CC = np.empty((ni, nj, nk*mk), dtype='float16')\n",
    "T0 = time.time()\n",
    "T_CORR = []\n",
    "for i in tqdm(range(nk)):\n",
    "# for i in range(10):\n",
    "    im = frames_zn[:, :, i]\n",
    "    imft = cFT(cp.array(im))\n",
    "    for j in range(mk):\n",
    "        fm = cp.pad(cp.array(lut_zn[:, :, j]), int((ni-mi)/2))\n",
    "        fmft = cFT(fm)\n",
    "        # CC[:, :, i*mk+j] = np.abs(cIFT(corr_gpu(imft, fmft)))\n",
    "        CC[:, :, i*mk+j] = cp.abs(cIFT(imft*cp.conj(fmft))).get().astype('float16')\n",
    "        T_CORR.append((time.time()-T0)/60)\n",
    "print(T_CORR[-1])"
   ]
  },
  {
   "cell_type": "code",
   "execution_count": 57,
   "id": "35d0a4c5-d85e-41a8-8511-ba38840634ad",
   "metadata": {},
   "outputs": [],
   "source": [
    "f.imshow_slider(CC, 2, 'gray')"
   ]
  },
  {
   "cell_type": "code",
   "execution_count": 58,
   "id": "2540f300-8337-4170-a73c-dda53bb276e9",
   "metadata": {},
   "outputs": [],
   "source": [
    "magnification = 20          # Archea: 20, E. coli: 40, 40, 40, MAY 20 (new 20), Colloids 20\n",
    "frame_rate = 100              # Archea: 30/5, E. coli: 60, 60, 60, MAY 100, Colloids 50\n",
    "fs = 0.711*(magnification/10)                  # px/um\n",
    "ps = (1 / fs)                    # Pixel size in image /um\n",
    "SZ = 5                     # step size of LUT [Archea: 10um,E. coli: 20, 40, 20, MAY 20 (new 10)], Colloids: 10\n",
    "number_of_images = nk      # Archea = 400 , Ecoli = 430, 430, 700  # MAY 275(550)\n",
    "number_of_filters = mk      # Archea =  25 ,   Ecoli =  19,  19,  20  # MAY 30 (new 40) "
   ]
  },
  {
   "cell_type": "code",
   "execution_count": 84,
   "id": "92ee5770-2f24-42c2-b7cf-b4fd1e9477f8",
   "metadata": {},
   "outputs": [
    {
     "name": "stderr",
     "output_type": "stream",
     "text": [
      "100%|██████████████████████████████████████████████████████████████████████████████████| 22/22 [00:01<00:00, 21.53it/s]\n"
     ]
    }
   ],
   "source": [
    "#%% Analysis with MAx value (good results)\n",
    "# CC = np.load(gui.fileopenbox())\n",
    "\n",
    "window = 3                                          # Set by window in peak_gauss_fit_analysis() function\n",
    "w = 2                                               # Windos for quadratic fit in Z\n",
    "pol = lambda a, x: a[0]*x**2 + a[1]*x + a[2]\n",
    "pos = []\n",
    "\n",
    "nii = 743\n",
    "njj = 743\n",
    "num_images = nk*mk\n",
    "\n",
    "methods = ['GPU', 'Optical']\n",
    "method = methods[0]\n",
    "\n",
    "apply_filters = True\n",
    "\n",
    "for k in tqdm(range(nk)):\n",
    "# for k in range(2):\n",
    "    \n",
    "    if method == 'Optical':\n",
    "        temp = np.empty((nii, njj, mk))\n",
    "        ids = np.arange(k*mk, k*mk+mk) \n",
    "        \n",
    "        for i, id in enumerate(ids):\n",
    "            # print(file_list[id])\n",
    "            t = plt.imread(path+file_list[id])        \n",
    "            temp[:, :, i] = t[8:8+nii, 232:232+njj]\n",
    "            \n",
    "            if apply_filters:\n",
    "                temp[:, :, i] = gaussian_filter(np.abs(sobel(temp[:, :, i])), 4)\n",
    "         \n",
    "        zp = np.max(temp, axis=2)\n",
    "        zp_gauss = gaussian_filter(zp.astype('float32'), sigma=3)\n",
    "        r = peak_local_max(zp_gauss.astype('float32'), threshold_rel=0.6, min_distance=20)\n",
    "        \n",
    "        # plt.imshow(zp_gauss, cmap='gray')\n",
    "        # plt.scatter(r[:, 1], r[:, 0])\n",
    "    \n",
    "    elif method == 'GPU':\n",
    "        temp = CC[:, :, k*mk:k*mk+mk]\n",
    "        zp = np.max(temp, axis=2)\n",
    "        zp_gauss = gaussian_filter(zp.astype('float32'), sigma=3)\n",
    "        # zp_gauss = zp\n",
    "        \n",
    "        # r = peak_local_max(zp_gauss.astype('float32'), threshold_rel=0.2, min_distance=2, num_peaks=1)\n",
    "        r = peak_local_max(zp_gauss.astype('float32'), threshold_rel=0.3, min_distance=20)\n",
    "        # print(r)\n",
    "        # print('-')\n",
    "        # print(r*ps)\n",
    "        \n",
    "        # plt.imshow(zp_gauss, cmap='gray')\n",
    "        # plt.scatter(r[:, 1], r[:, 0])\n",
    "    \n",
    "    for r0 in r: \n",
    "        ri, rj = r0[0], r0[1]\n",
    "        zpp = temp[ri-window:ri+window, rj-window:rj+window, :]\n",
    "        \n",
    "        # zpp_sum = np.sum(zpp, axis=(0, 1))\n",
    "        zpp_sum = np.max(zpp, axis=(0,1))\n",
    "        # plt.plot(zpp_sum, '.-')\n",
    "        \n",
    "        idmax = np.where(zpp_sum == zpp_sum.max())[0][0]\n",
    "        \n",
    "        if idmax > 3 and idmax < mk-3:\n",
    "            ids = np.arange(idmax-w, idmax+w+1)\n",
    "            ids_vals = zpp_sum[ids]\n",
    "            coefs = np.polyfit(ids, np.float32(ids_vals), 2)\n",
    "            \n",
    "            interp_ids = np.linspace(ids[0], ids[-1], 20)\n",
    "            interp_val = pol(coefs, interp_ids)\n",
    "            \n",
    "            # plt.plot(ids, ids_vals, 'H')\n",
    "            # plt.plot(interp_ids, interp_val, '.-')\n",
    "    \n",
    "            filter_sel = interp_ids[interp_val == interp_val.max()][0] \n",
    "        \n",
    "        else:\n",
    "            filter_sel = np.where(zpp_sum == zpp_sum.max())[0][0]\n",
    "        \n",
    "        pos.append([ri, rj, filter_sel, k])\n",
    "\n",
    "locs = np.array(pos)\n",
    "\n",
    "#% Positions 3D Data Frame\n",
    "posi = locs[:, 0]*ps\n",
    "posj = locs[:, 1]*ps\n",
    "post = locs[:, 3]/frame_rate\n",
    "posframe = locs[:, 3]\n",
    "\n",
    "true_z_of_target_im_1 = 121.1 # 96.1       #um\n",
    "# zz = np.arange(number_of_filters-1, -1, -1)*SZ\n",
    "zz = np.linspace(true_z_of_target_im_1, SZ, mk)\n",
    "posk = np.empty_like(locs[:, 2])\n",
    "for k in range(len(posk)):\n",
    "    # posk[k] = zz[int(locs[k, 2])]\n",
    "    posk[k] = true_z_of_target_im_1 - locs[k, 2]*SZ\n",
    "    \n",
    "    \n",
    "data_3d = pd.DataFrame(np.transpose([posj, posi, posk, post, posframe]), columns=['X', 'Y', 'Z', 'TIME', 'FRAME'])\n",
    "\n"
   ]
  },
  {
   "cell_type": "code",
   "execution_count": 85,
   "id": "defb3509-9aad-4009-805e-a2b37b8cc73c",
   "metadata": {},
   "outputs": [],
   "source": [
    "#%% 3D \n",
    "from mpl_toolkits.mplot3d import Axes3D\n",
    "from matplotlib import pyplot\n",
    "\n",
    "fig = plt.figure(2)\n",
    "ax1 = fig.add_subplot(111, projection='3d')\n",
    "\n",
    "ax1.scatter(data_3d['Y'], data_3d['X'], data_3d['Z'], c=data_3d['TIME'], marker='.')\n",
    "\n",
    "pyplot.show()"
   ]
  },
  {
   "cell_type": "code",
   "execution_count": 111,
   "id": "1ff6b0bb-7ee4-42ac-a51c-62671a955599",
   "metadata": {},
   "outputs": [
    {
     "name": "stdout",
     "output_type": "stream",
     "text": [
      "T_DBSCAN 0.0209958553314209\n"
     ]
    }
   ],
   "source": [
    "#%% DBSCAN\n",
    "import os\n",
    "import sklearn.cluster as cl\n",
    "\n",
    "cores = os.cpu_count()\n",
    "eps = 15\n",
    "min_samples = 5\n",
    "\n",
    "# time.sleep(10)\n",
    "T0_DBSCAN = time.time()\n",
    "DBSCAN = cl.DBSCAN(eps=float(eps), min_samples=int(min_samples), n_jobs=cores).fit(data_3d[['X', 'Y', 'Z']])\n",
    "LINKED = data_3d.copy()\n",
    "LINKED['PARTICLE'] = DBSCAN.labels_\n",
    "LINKED = LINKED.drop(np.where(LINKED.PARTICLE.values == -1)[0])\n",
    "LINKED['X'] = LINKED['X'] \n",
    "\n",
    "LINKED['Y'] = LINKED['Y']\n",
    "T_DBSCAN = time.time() - T0_DBSCAN\n",
    "print('T_DBSCAN', T_DBSCAN)"
   ]
  },
  {
   "cell_type": "code",
   "execution_count": 112,
   "id": "e4bfa65f-8560-4243-96ec-53862b153f64",
   "metadata": {},
   "outputs": [],
   "source": [
    "\n",
    "particle_num = np.unique(LINKED['PARTICLE'])\n",
    "fig = plt.figure(1)\n",
    "ax1 = fig.add_subplot(111, projection='3d')\n",
    "\n",
    "# ax1.scatter(L['Y'], L['X'], L['Z'], c=L['PARTICLE'], marker='.')\n",
    "\n",
    "\n",
    "p = 0\n",
    "LL = LINKED[LINKED['PARTICLE'] == p]    \n",
    "# ax1.plot(LL['Y'], LL['X'], LL['Z'])\n",
    "ax1.scatter(LL['Y'], LL['X'], LL['Z'])\n",
    "ax1.set_xlabel('X')\n",
    "ax1.set_ylabel('Y')\n",
    "pyplot.show()"
   ]
  },
  {
   "cell_type": "code",
   "execution_count": 113,
   "id": "e1d3646e-a0a3-47ea-9ed7-3d35da53b8e5",
   "metadata": {},
   "outputs": [
    {
     "data": {
      "text/html": [
       "<div>\n",
       "<style scoped>\n",
       "    .dataframe tbody tr th:only-of-type {\n",
       "        vertical-align: middle;\n",
       "    }\n",
       "\n",
       "    .dataframe tbody tr th {\n",
       "        vertical-align: top;\n",
       "    }\n",
       "\n",
       "    .dataframe thead th {\n",
       "        text-align: right;\n",
       "    }\n",
       "</style>\n",
       "<table border=\"1\" class=\"dataframe\">\n",
       "  <thead>\n",
       "    <tr style=\"text-align: right;\">\n",
       "      <th></th>\n",
       "      <th>X</th>\n",
       "      <th>Y</th>\n",
       "      <th>Z</th>\n",
       "      <th>TIME</th>\n",
       "      <th>FRAME</th>\n",
       "      <th>PARTICLE</th>\n",
       "    </tr>\n",
       "  </thead>\n",
       "  <tbody>\n",
       "    <tr>\n",
       "      <th>0</th>\n",
       "      <td>187.763713</td>\n",
       "      <td>154.008439</td>\n",
       "      <td>121.100000</td>\n",
       "      <td>0.00</td>\n",
       "      <td>0.0</td>\n",
       "      <td>0</td>\n",
       "    </tr>\n",
       "    <tr>\n",
       "      <th>1</th>\n",
       "      <td>184.247539</td>\n",
       "      <td>156.118143</td>\n",
       "      <td>121.100000</td>\n",
       "      <td>0.01</td>\n",
       "      <td>1.0</td>\n",
       "      <td>0</td>\n",
       "    </tr>\n",
       "    <tr>\n",
       "      <th>2</th>\n",
       "      <td>180.731364</td>\n",
       "      <td>161.040788</td>\n",
       "      <td>111.100000</td>\n",
       "      <td>0.02</td>\n",
       "      <td>2.0</td>\n",
       "      <td>0</td>\n",
       "    </tr>\n",
       "    <tr>\n",
       "      <th>3</th>\n",
       "      <td>176.511955</td>\n",
       "      <td>167.369902</td>\n",
       "      <td>111.100000</td>\n",
       "      <td>0.03</td>\n",
       "      <td>3.0</td>\n",
       "      <td>0</td>\n",
       "    </tr>\n",
       "    <tr>\n",
       "      <th>4</th>\n",
       "      <td>172.995781</td>\n",
       "      <td>171.589311</td>\n",
       "      <td>106.100000</td>\n",
       "      <td>0.04</td>\n",
       "      <td>4.0</td>\n",
       "      <td>0</td>\n",
       "    </tr>\n",
       "    <tr>\n",
       "      <th>5</th>\n",
       "      <td>171.589311</td>\n",
       "      <td>175.105485</td>\n",
       "      <td>98.731579</td>\n",
       "      <td>0.05</td>\n",
       "      <td>5.0</td>\n",
       "      <td>0</td>\n",
       "    </tr>\n",
       "    <tr>\n",
       "      <th>7</th>\n",
       "      <td>170.182841</td>\n",
       "      <td>175.808720</td>\n",
       "      <td>94.784211</td>\n",
       "      <td>0.06</td>\n",
       "      <td>6.0</td>\n",
       "      <td>0</td>\n",
       "    </tr>\n",
       "    <tr>\n",
       "      <th>9</th>\n",
       "      <td>166.666667</td>\n",
       "      <td>177.215190</td>\n",
       "      <td>87.678947</td>\n",
       "      <td>0.07</td>\n",
       "      <td>7.0</td>\n",
       "      <td>0</td>\n",
       "    </tr>\n",
       "    <tr>\n",
       "      <th>10</th>\n",
       "      <td>165.963432</td>\n",
       "      <td>177.215190</td>\n",
       "      <td>85.573684</td>\n",
       "      <td>0.08</td>\n",
       "      <td>8.0</td>\n",
       "      <td>0</td>\n",
       "    </tr>\n",
       "    <tr>\n",
       "      <th>12</th>\n",
       "      <td>161.040788</td>\n",
       "      <td>177.215190</td>\n",
       "      <td>78.731579</td>\n",
       "      <td>0.09</td>\n",
       "      <td>9.0</td>\n",
       "      <td>0</td>\n",
       "    </tr>\n",
       "    <tr>\n",
       "      <th>14</th>\n",
       "      <td>159.634318</td>\n",
       "      <td>177.918425</td>\n",
       "      <td>72.678947</td>\n",
       "      <td>0.10</td>\n",
       "      <td>10.0</td>\n",
       "      <td>0</td>\n",
       "    </tr>\n",
       "    <tr>\n",
       "      <th>16</th>\n",
       "      <td>159.634318</td>\n",
       "      <td>179.324895</td>\n",
       "      <td>68.468421</td>\n",
       "      <td>0.11</td>\n",
       "      <td>11.0</td>\n",
       "      <td>0</td>\n",
       "    </tr>\n",
       "    <tr>\n",
       "      <th>18</th>\n",
       "      <td>158.931083</td>\n",
       "      <td>180.028129</td>\n",
       "      <td>64.521053</td>\n",
       "      <td>0.12</td>\n",
       "      <td>12.0</td>\n",
       "      <td>0</td>\n",
       "    </tr>\n",
       "    <tr>\n",
       "      <th>21</th>\n",
       "      <td>157.524613</td>\n",
       "      <td>186.357243</td>\n",
       "      <td>56.626316</td>\n",
       "      <td>0.13</td>\n",
       "      <td>13.0</td>\n",
       "      <td>0</td>\n",
       "    </tr>\n",
       "    <tr>\n",
       "      <th>23</th>\n",
       "      <td>157.524613</td>\n",
       "      <td>185.654008</td>\n",
       "      <td>53.468421</td>\n",
       "      <td>0.14</td>\n",
       "      <td>14.0</td>\n",
       "      <td>0</td>\n",
       "    </tr>\n",
       "    <tr>\n",
       "      <th>25</th>\n",
       "      <td>157.524613</td>\n",
       "      <td>184.950774</td>\n",
       "      <td>49.521053</td>\n",
       "      <td>0.15</td>\n",
       "      <td>15.0</td>\n",
       "      <td>0</td>\n",
       "    </tr>\n",
       "    <tr>\n",
       "      <th>27</th>\n",
       "      <td>157.524613</td>\n",
       "      <td>184.950774</td>\n",
       "      <td>42.678947</td>\n",
       "      <td>0.16</td>\n",
       "      <td>16.0</td>\n",
       "      <td>0</td>\n",
       "    </tr>\n",
       "    <tr>\n",
       "      <th>29</th>\n",
       "      <td>157.524613</td>\n",
       "      <td>187.060478</td>\n",
       "      <td>56.626316</td>\n",
       "      <td>0.17</td>\n",
       "      <td>17.0</td>\n",
       "      <td>0</td>\n",
       "    </tr>\n",
       "    <tr>\n",
       "      <th>32</th>\n",
       "      <td>156.118143</td>\n",
       "      <td>182.841069</td>\n",
       "      <td>35.573684</td>\n",
       "      <td>0.18</td>\n",
       "      <td>18.0</td>\n",
       "      <td>0</td>\n",
       "    </tr>\n",
       "    <tr>\n",
       "      <th>34</th>\n",
       "      <td>155.414909</td>\n",
       "      <td>182.841069</td>\n",
       "      <td>28.731579</td>\n",
       "      <td>0.19</td>\n",
       "      <td>19.0</td>\n",
       "      <td>0</td>\n",
       "    </tr>\n",
       "    <tr>\n",
       "      <th>36</th>\n",
       "      <td>155.414909</td>\n",
       "      <td>182.841069</td>\n",
       "      <td>21.626316</td>\n",
       "      <td>0.20</td>\n",
       "      <td>20.0</td>\n",
       "      <td>0</td>\n",
       "    </tr>\n",
       "    <tr>\n",
       "      <th>38</th>\n",
       "      <td>154.711674</td>\n",
       "      <td>183.544304</td>\n",
       "      <td>16.626316</td>\n",
       "      <td>0.21</td>\n",
       "      <td>21.0</td>\n",
       "      <td>0</td>\n",
       "    </tr>\n",
       "  </tbody>\n",
       "</table>\n",
       "</div>"
      ],
      "text/plain": [
       "             X           Y           Z  TIME  FRAME  PARTICLE\n",
       "0   187.763713  154.008439  121.100000  0.00    0.0         0\n",
       "1   184.247539  156.118143  121.100000  0.01    1.0         0\n",
       "2   180.731364  161.040788  111.100000  0.02    2.0         0\n",
       "3   176.511955  167.369902  111.100000  0.03    3.0         0\n",
       "4   172.995781  171.589311  106.100000  0.04    4.0         0\n",
       "5   171.589311  175.105485   98.731579  0.05    5.0         0\n",
       "7   170.182841  175.808720   94.784211  0.06    6.0         0\n",
       "9   166.666667  177.215190   87.678947  0.07    7.0         0\n",
       "10  165.963432  177.215190   85.573684  0.08    8.0         0\n",
       "12  161.040788  177.215190   78.731579  0.09    9.0         0\n",
       "14  159.634318  177.918425   72.678947  0.10   10.0         0\n",
       "16  159.634318  179.324895   68.468421  0.11   11.0         0\n",
       "18  158.931083  180.028129   64.521053  0.12   12.0         0\n",
       "21  157.524613  186.357243   56.626316  0.13   13.0         0\n",
       "23  157.524613  185.654008   53.468421  0.14   14.0         0\n",
       "25  157.524613  184.950774   49.521053  0.15   15.0         0\n",
       "27  157.524613  184.950774   42.678947  0.16   16.0         0\n",
       "29  157.524613  187.060478   56.626316  0.17   17.0         0\n",
       "32  156.118143  182.841069   35.573684  0.18   18.0         0\n",
       "34  155.414909  182.841069   28.731579  0.19   19.0         0\n",
       "36  155.414909  182.841069   21.626316  0.20   20.0         0\n",
       "38  154.711674  183.544304   16.626316  0.21   21.0         0"
      ]
     },
     "execution_count": 113,
     "metadata": {},
     "output_type": "execute_result"
    }
   ],
   "source": [
    "LL"
   ]
  },
  {
   "cell_type": "code",
   "execution_count": 114,
   "id": "9e3cccba-d7f3-4fe2-87b4-609d53e7b757",
   "metadata": {},
   "outputs": [
    {
     "data": {
      "text/plain": [
       "<StemContainer object of 3 artists>"
      ]
     },
     "execution_count": 114,
     "metadata": {},
     "output_type": "execute_result"
    }
   ],
   "source": [
    "diff = np.abs(np.diff(np.array(LL.Z)))\n",
    "plt.stem(diff)"
   ]
  },
  {
   "cell_type": "code",
   "execution_count": 106,
   "id": "b329fb11-d2f0-4d0c-b99e-5a1d596ef558",
   "metadata": {},
   "outputs": [
    {
     "data": {
      "text/plain": [
       "array([ 0.        , 10.        ,  0.        ,  5.        ,  7.36842105,\n",
       "        3.94736842,  7.10526316,  2.10526316,  6.84210526,  6.05263158,\n",
       "        4.21052632,  3.94736842,  7.89473684,  3.15789474,  3.94736842,\n",
       "        6.84210526, 13.94736842, 21.05263158,  6.84210526,  7.10526316,\n",
       "        5.        ])"
      ]
     },
     "execution_count": 106,
     "metadata": {},
     "output_type": "execute_result"
    }
   ],
   "source": [
    "diff"
   ]
  },
  {
   "cell_type": "code",
   "execution_count": null,
   "id": "ce4c1bfb-3e30-458d-b20e-42a91f4cffc3",
   "metadata": {},
   "outputs": [],
   "source": []
  }
 ],
 "metadata": {
  "kernelspec": {
   "display_name": "Python 3 (ipykernel)",
   "language": "python",
   "name": "python3"
  },
  "language_info": {
   "codemirror_mode": {
    "name": "ipython",
    "version": 3
   },
   "file_extension": ".py",
   "mimetype": "text/x-python",
   "name": "python",
   "nbconvert_exporter": "python",
   "pygments_lexer": "ipython3",
   "version": "3.8.8"
  }
 },
 "nbformat": 4,
 "nbformat_minor": 5
}
